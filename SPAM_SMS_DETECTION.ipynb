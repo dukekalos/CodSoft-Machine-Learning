{
 "cells": [
  {
   "cell_type": "code",
   "execution_count": 3,
   "id": "08665586",
   "metadata": {},
   "outputs": [],
   "source": [
    "import pandas as pd\n",
    "from sklearn.model_selection import train_test_split\n",
    "from sklearn.feature_extraction.text import TfidfVectorizer\n",
    "from sklearn.naive_bayes import MultinomialNB\n",
    "from sklearn.linear_model import LogisticRegression\n",
    "from sklearn.svm import SVC\n",
    "from sklearn.metrics import accuracy_score, confusion_matrix, classification_report\n",
    "# Load the SMS Spam Collection dataset\n",
    "\n",
    "# data = pd.read_csv('/kaggle/input/sms-spam-collection-dataset/spam.csv', encoding='latin-1')\n",
    "data = pd.read_csv(r\"C:\\Users\\Kunjal Thorat\\Desktop\\SMS Detection\\spam.csv\", encoding='latin-1')\n",
    "\n",
    "data = data[['v1', 'v2']]\n",
    "data.columns = ['Class', 'Message']"
   ]
  },
  {
   "cell_type": "code",
   "execution_count": 4,
   "id": "b02a2ca3",
   "metadata": {},
   "outputs": [
    {
     "name": "stdout",
     "output_type": "stream",
     "text": [
      "Training Data - First 5 rows:\n"
     ]
    },
    {
     "data": {
      "text/html": [
       "<div>\n",
       "<style scoped>\n",
       "    .dataframe tbody tr th:only-of-type {\n",
       "        vertical-align: middle;\n",
       "    }\n",
       "\n",
       "    .dataframe tbody tr th {\n",
       "        vertical-align: top;\n",
       "    }\n",
       "\n",
       "    .dataframe thead th {\n",
       "        text-align: right;\n",
       "    }\n",
       "</style>\n",
       "<table border=\"1\" class=\"dataframe\">\n",
       "  <thead>\n",
       "    <tr style=\"text-align: right;\">\n",
       "      <th></th>\n",
       "      <th>Class</th>\n",
       "      <th>Message</th>\n",
       "    </tr>\n",
       "  </thead>\n",
       "  <tbody>\n",
       "    <tr>\n",
       "      <th>0</th>\n",
       "      <td>ham</td>\n",
       "      <td>Go until jurong point, crazy.. Available only ...</td>\n",
       "    </tr>\n",
       "    <tr>\n",
       "      <th>1</th>\n",
       "      <td>ham</td>\n",
       "      <td>Ok lar... Joking wif u oni...</td>\n",
       "    </tr>\n",
       "    <tr>\n",
       "      <th>2</th>\n",
       "      <td>spam</td>\n",
       "      <td>Free entry in 2 a wkly comp to win FA Cup fina...</td>\n",
       "    </tr>\n",
       "    <tr>\n",
       "      <th>3</th>\n",
       "      <td>ham</td>\n",
       "      <td>U dun say so early hor... U c already then say...</td>\n",
       "    </tr>\n",
       "    <tr>\n",
       "      <th>4</th>\n",
       "      <td>ham</td>\n",
       "      <td>Nah I don't think he goes to usf, he lives aro...</td>\n",
       "    </tr>\n",
       "  </tbody>\n",
       "</table>\n",
       "</div>"
      ],
      "text/plain": [
       "  Class                                            Message\n",
       "0   ham  Go until jurong point, crazy.. Available only ...\n",
       "1   ham                      Ok lar... Joking wif u oni...\n",
       "2  spam  Free entry in 2 a wkly comp to win FA Cup fina...\n",
       "3   ham  U dun say so early hor... U c already then say...\n",
       "4   ham  Nah I don't think he goes to usf, he lives aro..."
      ]
     },
     "execution_count": 4,
     "metadata": {},
     "output_type": "execute_result"
    }
   ],
   "source": [
    "print(\"Training Data - First 5 rows:\")\n",
    "data.head()"
   ]
  },
  {
   "cell_type": "code",
   "execution_count": 6,
   "id": "94ee7170",
   "metadata": {},
   "outputs": [],
   "source": [
    "# Data Preprocessing\n",
    "data['Message'] = data['Message'].str.lower()\n",
    "\n",
    "# Split the data into train and test sets\n",
    "X = data['Message']\n",
    "y = data['Class']\n",
    "X_train, X_test, y_train, y_test = train_test_split(X, y, test_size=0.25, random_state=42)"
   ]
  },
  {
   "cell_type": "code",
   "execution_count": 7,
   "id": "476e31e1",
   "metadata": {},
   "outputs": [
    {
     "name": "stdout",
     "output_type": "stream",
     "text": [
      "Naive Bayes Model:\n",
      "Accuracy: 95.98%\n",
      "Confusion Matrix:\n",
      "[[1202    0]\n",
      " [  56  135]]\n",
      "Classification Report:\n",
      "              precision    recall  f1-score   support\n",
      "\n",
      "         ham       0.96      1.00      0.98      1202\n",
      "        spam       1.00      0.71      0.83       191\n",
      "\n",
      "    accuracy                           0.96      1393\n",
      "   macro avg       0.98      0.85      0.90      1393\n",
      "weighted avg       0.96      0.96      0.96      1393\n",
      "\n"
     ]
    }
   ],
   "source": [
    "# Section 1: Naive Bayes\n",
    "# TF-IDF Vectorization\n",
    "tfidf_vectorizer = TfidfVectorizer()\n",
    "X_train_tfidf = tfidf_vectorizer.fit_transform(X_train)\n",
    "X_test_tfidf = tfidf_vectorizer.transform(X_test)\n",
    "\n",
    "# Model Training and Evaluation for Naive Bayes\n",
    "nb_model = MultinomialNB()\n",
    "nb_model.fit(X_train_tfidf, y_train)\n",
    "y_pred_nb = nb_model.predict(X_test_tfidf)\n",
    "\n",
    "# Evaluation Metrics for Naive Bayes\n",
    "accuracy_nb = accuracy_score(y_test, y_pred_nb)\n",
    "confusion_matrix_nb = confusion_matrix(y_test, y_pred_nb)\n",
    "report_nb = classification_report(y_test, y_pred_nb)\n",
    "\n",
    "# Print Results for Naive Bayes\n",
    "print(\"Naive Bayes Model:\")\n",
    "print(f'Accuracy: {accuracy_nb * 100:.2f}%')\n",
    "print('Confusion Matrix:')\n",
    "print(confusion_matrix_nb)\n",
    "print('Classification Report:')\n",
    "print(report_nb)"
   ]
  },
  {
   "cell_type": "code",
   "execution_count": 13,
   "id": "815ce16e",
   "metadata": {},
   "outputs": [
    {
     "name": "stdout",
     "output_type": "stream",
     "text": [
      "\n",
      "Classified Messages (First 10 for each model):\n",
      "Naive Bayes: not spam - funny fact nobody teaches volcanoes 2 erupt, tsunamis 2 arise, hurricanes 2 sway aroundn no 1 teaches hw 2 choose a wife natural disasters just happens\n",
      "\n",
      "Naive Bayes: not spam - i sent my scores to sophas and i had to do secondary application for a few schools. i think if you are thinking of applying, do a research on cost also. contact joke ogunrinde, her school is one me the less expensive ones\n",
      "\n",
      "Naive Bayes: not spam - we know someone who you know that fancies you. call 09058097218 to find out who. pobox 6, ls15hb 150p\n",
      "\n",
      "Naive Bayes: not spam - only if you promise your getting out as soon as you can. and you'll text me in the morning to let me know you made it in ok.\n",
      "\n",
      "Naive Bayes: spam - congratulations ur awarded either å£500 of cd gift vouchers & free entry 2 our å£100 weekly draw txt music to 87066 tncs www.ldew.com1win150ppmx3age16\n",
      "\n",
      "Naive Bayes: not spam - i'll text carlos and let you know, hang on\n",
      "\n",
      "Naive Bayes: not spam - k.i did't see you.:)k:)where are you now?\n",
      "\n",
      "Naive Bayes: not spam - no message..no responce..what happend?\n",
      "\n",
      "Naive Bayes: not spam - get down in gandhipuram and walk to cross cut road. right side &lt;#&gt; street road and turn at first right.\n",
      "\n",
      "Naive Bayes: not spam - you flippin your shit yet?\n",
      "\n"
     ]
    }
   ],
   "source": [
    "# Specify if each message is spam or not based on model predictions\n",
    "def classify_messages(model, X_tfidf):\n",
    "    predictions = model.predict(X_tfidf)\n",
    "    return ['spam' if label == 'spam' else 'not spam' for label in predictions]\n",
    "\n",
    "# Specify if each message is spam or not based on model predictions\n",
    "classified_nb = classify_messages(nb_model, X_test_tfidf)\n",
    "\n",
    "# Display the first 10 classified messages for NB model\n",
    "print(\"\\nClassified Messages (First 10 for each model):\")\n",
    "for i in range(10):\n",
    "    print(f\"Naive Bayes: {classified_nb[i]} - {X_test.iloc[i]}\")\n",
    "    print()"
   ]
  },
  {
   "cell_type": "code",
   "execution_count": 11,
   "id": "59f9a5ac",
   "metadata": {},
   "outputs": [
    {
     "name": "stdout",
     "output_type": "stream",
     "text": [
      "Naive Bayes: 135 spam messages\n"
     ]
    }
   ],
   "source": [
    "spam_count_nb = classified_nb.count('spam')\n",
    "print(f\"Naive Bayes: {spam_count_nb} spam messages\")"
   ]
  },
  {
   "cell_type": "code",
   "execution_count": 12,
   "id": "1d8fdc76",
   "metadata": {},
   "outputs": [
    {
     "name": "stdout",
     "output_type": "stream",
     "text": [
      "\n",
      "Logistic Regression Model:\n",
      "Accuracy: 96.34%\n",
      "Confusion Matrix:\n",
      "[[1201    1]\n",
      " [  50  141]]\n",
      "Classification Report:\n",
      "              precision    recall  f1-score   support\n",
      "\n",
      "         ham       0.96      1.00      0.98      1202\n",
      "        spam       0.99      0.74      0.85       191\n",
      "\n",
      "    accuracy                           0.96      1393\n",
      "   macro avg       0.98      0.87      0.91      1393\n",
      "weighted avg       0.96      0.96      0.96      1393\n",
      "\n"
     ]
    }
   ],
   "source": [
    "# Section 2: Logistic Regression\n",
    "# TF-IDF Vectorization (already done)\n",
    "\n",
    "# Model Training and Evaluation for Logistic Regression\n",
    "lr_model = LogisticRegression(max_iter=1000)\n",
    "lr_model.fit(X_train_tfidf, y_train)\n",
    "y_pred_lr = lr_model.predict(X_test_tfidf)\n",
    "\n",
    "# Evaluation Metrics for Logistic Regression\n",
    "accuracy_lr = accuracy_score(y_test, y_pred_lr)\n",
    "confusion_matrix_lr = confusion_matrix(y_test, y_pred_lr)\n",
    "report_lr = classification_report(y_test, y_pred_lr)\n",
    "\n",
    "# Print Results for Logistic Regression\n",
    "print(\"\\nLogistic Regression Model:\")\n",
    "print(f'Accuracy: {accuracy_lr * 100:.2f}%')\n",
    "print('Confusion Matrix:')\n",
    "print(confusion_matrix_lr)\n",
    "print('Classification Report:')\n",
    "print(report_lr)\n"
   ]
  },
  {
   "cell_type": "code",
   "execution_count": 14,
   "id": "2f810c32",
   "metadata": {},
   "outputs": [
    {
     "name": "stdout",
     "output_type": "stream",
     "text": [
      "Logistic Regression: not spam - funny fact nobody teaches volcanoes 2 erupt, tsunamis 2 arise, hurricanes 2 sway aroundn no 1 teaches hw 2 choose a wife natural disasters just happens\n",
      "\n",
      "Logistic Regression: not spam - i sent my scores to sophas and i had to do secondary application for a few schools. i think if you are thinking of applying, do a research on cost also. contact joke ogunrinde, her school is one me the less expensive ones\n",
      "\n",
      "Logistic Regression: not spam - we know someone who you know that fancies you. call 09058097218 to find out who. pobox 6, ls15hb 150p\n",
      "\n",
      "Logistic Regression: not spam - only if you promise your getting out as soon as you can. and you'll text me in the morning to let me know you made it in ok.\n",
      "\n",
      "Logistic Regression: spam - congratulations ur awarded either å£500 of cd gift vouchers & free entry 2 our å£100 weekly draw txt music to 87066 tncs www.ldew.com1win150ppmx3age16\n",
      "\n",
      "Logistic Regression: not spam - i'll text carlos and let you know, hang on\n",
      "\n",
      "Logistic Regression: not spam - k.i did't see you.:)k:)where are you now?\n",
      "\n",
      "Logistic Regression: not spam - no message..no responce..what happend?\n",
      "\n",
      "Logistic Regression: not spam - get down in gandhipuram and walk to cross cut road. right side &lt;#&gt; street road and turn at first right.\n",
      "\n",
      "Logistic Regression: not spam - you flippin your shit yet?\n",
      "\n"
     ]
    }
   ],
   "source": [
    "classified_lr = classify_messages(lr_model, X_test_tfidf)\n",
    "\n",
    "for i in range(10):\n",
    "    print(f\"Logistic Regression: {classified_lr[i]} - {X_test.iloc[i]}\")\n",
    "    print()"
   ]
  },
  {
   "cell_type": "code",
   "execution_count": 16,
   "id": "fa5fd5fc",
   "metadata": {},
   "outputs": [
    {
     "name": "stdout",
     "output_type": "stream",
     "text": [
      "Logistic Regression: 142 spam messages\n"
     ]
    }
   ],
   "source": [
    "spam_count_lr = classified_lr.count('spam')\n",
    "print(f\"Logistic Regression: {spam_count_lr} spam messages\")"
   ]
  },
  {
   "cell_type": "code",
   "execution_count": 17,
   "id": "347a4c17",
   "metadata": {},
   "outputs": [
    {
     "name": "stdout",
     "output_type": "stream",
     "text": [
      "\n",
      "Support Vector Machines (SVM) Model:\n",
      "Accuracy: 97.92%\n",
      "Confusion Matrix:\n",
      "[[1202    0]\n",
      " [  29  162]]\n",
      "Classification Report:\n",
      "              precision    recall  f1-score   support\n",
      "\n",
      "         ham       0.98      1.00      0.99      1202\n",
      "        spam       1.00      0.85      0.92       191\n",
      "\n",
      "    accuracy                           0.98      1393\n",
      "   macro avg       0.99      0.92      0.95      1393\n",
      "weighted avg       0.98      0.98      0.98      1393\n",
      "\n"
     ]
    }
   ],
   "source": [
    "# Section 3: Support Vector Machines (SVM)\n",
    "# TF-IDF Vectorization (already done)\n",
    "\n",
    "# Model Training and Evaluation for SVM\n",
    "svm_model = SVC()\n",
    "svm_model.fit(X_train_tfidf, y_train)\n",
    "y_pred_svm = svm_model.predict(X_test_tfidf)\n",
    "\n",
    "# Evaluation Metrics for SVM\n",
    "accuracy_svm = accuracy_score(y_test, y_pred_svm)\n",
    "confusion_matrix_svm = confusion_matrix(y_test, y_pred_svm)\n",
    "report_svm = classification_report(y_test, y_pred_svm)\n",
    "\n",
    "# Print Results for SVM\n",
    "print(\"\\nSupport Vector Machines (SVM) Model:\")\n",
    "print(f'Accuracy: {accuracy_svm * 100:.2f}%')\n",
    "print('Confusion Matrix:')\n",
    "print(confusion_matrix_svm)\n",
    "print('Classification Report:')\n",
    "print(report_svm)"
   ]
  },
  {
   "cell_type": "code",
   "execution_count": 18,
   "id": "eea988ae",
   "metadata": {},
   "outputs": [
    {
     "name": "stdout",
     "output_type": "stream",
     "text": [
      "SVM: not spam - funny fact nobody teaches volcanoes 2 erupt, tsunamis 2 arise, hurricanes 2 sway aroundn no 1 teaches hw 2 choose a wife natural disasters just happens\n",
      "\n",
      "SVM: not spam - i sent my scores to sophas and i had to do secondary application for a few schools. i think if you are thinking of applying, do a research on cost also. contact joke ogunrinde, her school is one me the less expensive ones\n",
      "\n",
      "SVM: spam - we know someone who you know that fancies you. call 09058097218 to find out who. pobox 6, ls15hb 150p\n",
      "\n",
      "SVM: not spam - only if you promise your getting out as soon as you can. and you'll text me in the morning to let me know you made it in ok.\n",
      "\n",
      "SVM: spam - congratulations ur awarded either å£500 of cd gift vouchers & free entry 2 our å£100 weekly draw txt music to 87066 tncs www.ldew.com1win150ppmx3age16\n",
      "\n",
      "SVM: not spam - i'll text carlos and let you know, hang on\n",
      "\n",
      "SVM: not spam - k.i did't see you.:)k:)where are you now?\n",
      "\n",
      "SVM: not spam - no message..no responce..what happend?\n",
      "\n",
      "SVM: not spam - get down in gandhipuram and walk to cross cut road. right side &lt;#&gt; street road and turn at first right.\n",
      "\n",
      "SVM: not spam - you flippin your shit yet?\n",
      "\n"
     ]
    }
   ],
   "source": [
    "classified_svm = classify_messages(svm_model, X_test_tfidf)\n",
    "\n",
    "for i in range(10):\n",
    "    print(f\"SVM: {classified_svm[i]} - {X_test.iloc[i]}\")\n",
    "    print()"
   ]
  },
  {
   "cell_type": "code",
   "execution_count": 19,
   "id": "7e3833d2",
   "metadata": {},
   "outputs": [
    {
     "name": "stdout",
     "output_type": "stream",
     "text": [
      "SVM: 162 spam messages\n"
     ]
    }
   ],
   "source": [
    "spam_count_svm = classified_svm.count('spam')\n",
    "\n",
    "print(f\"SVM: {spam_count_svm} spam messages\")"
   ]
  }
 ],
 "metadata": {
  "kernelspec": {
   "display_name": "Python 3 (ipykernel)",
   "language": "python",
   "name": "python3"
  },
  "language_info": {
   "codemirror_mode": {
    "name": "ipython",
    "version": 3
   },
   "file_extension": ".py",
   "mimetype": "text/x-python",
   "name": "python",
   "nbconvert_exporter": "python",
   "pygments_lexer": "ipython3",
   "version": "3.9.12"
  }
 },
 "nbformat": 4,
 "nbformat_minor": 5
}
